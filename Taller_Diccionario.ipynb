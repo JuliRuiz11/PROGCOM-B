{
  "nbformat": 4,
  "nbformat_minor": 0,
  "metadata": {
    "colab": {
      "provenance": [],
      "authorship_tag": "ABX9TyMKrUgFYelsDyiukGDAKxg+",
      "include_colab_link": true
    },
    "kernelspec": {
      "name": "python3",
      "display_name": "Python 3"
    },
    "language_info": {
      "name": "python"
    }
  },
  "cells": [
    {
      "cell_type": "markdown",
      "metadata": {
        "id": "view-in-github",
        "colab_type": "text"
      },
      "source": [
        "<a href=\"https://colab.research.google.com/github/JuliRuiz11/PROGCOM-B/blob/main/Taller_Diccionario.ipynb\" target=\"_parent\"><img src=\"https://colab.research.google.com/assets/colab-badge.svg\" alt=\"Open In Colab\"/></a>"
      ]
    },
    {
      "cell_type": "code",
      "execution_count": 1,
      "metadata": {
        "id": "x_zgDwcTI7Dd"
      },
      "outputs": [],
      "source": [
        "#Crea una función que reciba un diccionario de productos y retorne los productos con precios mayores a un valor dado.\n",
        "def retorno_productos(Dicc,Precio):\n",
        "  Dicc=[\"Manzana\",\"Pera\",\"Mora\",\"Fresa\"]\n",
        "  Precio=[\"1000\",\"1000\",\"200\",\"300\"]\n"
      ]
    }
  ]
}