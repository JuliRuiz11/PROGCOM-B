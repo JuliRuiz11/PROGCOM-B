{
  "nbformat": 4,
  "nbformat_minor": 0,
  "metadata": {
    "colab": {
      "provenance": []
    },
    "kernelspec": {
      "name": "python3",
      "display_name": "Python 3"
    },
    "language_info": {
      "name": "python"
    }
  },
  "cells": [
    {
      "cell_type": "markdown",
      "source": [
        "## PRUEBA DIAGNOSTICO\n",
        "1. Escribe un programa que reiba un número e indique si es positivo\n"
      ],
      "metadata": {
        "id": "7Q8Ul-xFpWx0"
      }
    },
    {
      "cell_type": "code",
      "execution_count": 14,
      "metadata": {
        "colab": {
          "base_uri": "https://localhost:8080/"
        },
        "id": "nx4ccZoimuAO",
        "outputId": "92ea4b5c-30d1-44b6-ebaa-c26e55d13132"
      },
      "outputs": [
        {
          "output_type": "stream",
          "name": "stdout",
          "text": [
            "Número\n",
            "Dar un número 20\n",
            "Es positivo\n"
          ]
        }
      ],
      "source": [
        "print(\"Número\")\n",
        "NUM = int(input(\"Dar un número \"))\n",
        "if (NUM) > 0:\n",
        "  print(f\"Es positivo\")\n",
        "else:\n",
        "  print(f\"Es negativo\")\n",
        ""
      ]
    },
    {
      "cell_type": "markdown",
      "source": [
        "2. Determinar mayor o menor de edad"
      ],
      "metadata": {
        "id": "CqEJdWg4tZO_"
      }
    },
    {
      "cell_type": "code",
      "source": [
        "print(\"Edad\")\n",
        "Ed = int(input(\"Tu edad es? \"))\n",
        "if (Ed)>18:\n",
        "  print(f\"Es menor de edad\")\n",
        "else:\n",
        "  print(f\"Es mayor de edad\")"
      ],
      "metadata": {
        "colab": {
          "base_uri": "https://localhost:8080/"
        },
        "id": "1MilUe55spaR",
        "outputId": "7041c78b-1af8-43e9-8da1-bdc3984b74c1"
      },
      "execution_count": 15,
      "outputs": [
        {
          "output_type": "stream",
          "name": "stdout",
          "text": [
            "Edad\n",
            "Tu edad es? 18\n",
            "Es mayor de edad\n"
          ]
        }
      ]
    },
    {
      "cell_type": "markdown",
      "source": [
        "3. Dos números y quien es el mayor"
      ],
      "metadata": {
        "id": "MTNvl-8zuQze"
      }
    },
    {
      "cell_type": "code",
      "source": [
        "print(\"Dos números\")\n",
        "Num1 = int(input(\"Ingresa el número  \"))\n",
        "Num2 = int(input(\"Ingrese el númwero  \"))\n",
        "if Num1 > Num2:\n",
        "  print(f\"El número mayor es\" , Num1)\n",
        "else:\n",
        "  print(f\"El número mayor es\", Num2)"
      ],
      "metadata": {
        "colab": {
          "base_uri": "https://localhost:8080/"
        },
        "id": "WvxraChvuKu_",
        "outputId": "8bc5952b-a231-4aed-f8f7-7d976d5e7aea"
      },
      "execution_count": 23,
      "outputs": [
        {
          "output_type": "stream",
          "name": "stdout",
          "text": [
            "Dos números\n",
            "Ingresa el número  19\n",
            "Ingrese el númwero  18\n",
            "El número mayor es 19\n"
          ]
        }
      ]
    },
    {
      "cell_type": "markdown",
      "source": [
        "4. Calificación, aprobado o reprobado"
      ],
      "metadata": {
        "id": "dgvb9uckw0Ek"
      }
    },
    {
      "cell_type": "code",
      "source": [
        "print(\"Aprobado o reprobado\")\n",
        "Num1=int(input(\"Su calificación es de \"))\n",
        "if (Num1)>=60:\n",
        "  print(f\"Esta aprobado\", Num1)\n",
        "else:\n",
        "  print(f\"Esta reprobado\", Num1)\n"
      ],
      "metadata": {
        "colab": {
          "base_uri": "https://localhost:8080/"
        },
        "id": "LzR5hi2oxC4E",
        "outputId": "deab3b57-cd2f-4cb6-bc3e-594d05e071ac"
      },
      "execution_count": 57,
      "outputs": [
        {
          "output_type": "stream",
          "name": "stdout",
          "text": [
            "Aprobado o reprobado\n",
            "Su calificación es de 20\n",
            "Esta reprobado 20\n"
          ]
        }
      ]
    },
    {
      "cell_type": "markdown",
      "source": [
        "5. Número Par o Impar\n"
      ],
      "metadata": {
        "id": "QsrGZGHBzdny"
      }
    },
    {
      "cell_type": "code",
      "source": [
        "print(\"Número par o impar\")\n",
        "N1=int(input(\"Ingrese un número \"))\n",
        "if (N1*2"
      ],
      "metadata": {
        "colab": {
          "base_uri": "https://localhost:8080/"
        },
        "id": "vegBnxEEzmhR",
        "outputId": "b3c77f7c-65d5-4c32-dc75-c105b9aa07c8"
      },
      "execution_count": 58,
      "outputs": [
        {
          "name": "stdout",
          "output_type": "stream",
          "text": [
            "Número par o impar\n",
            "Ingrese un número 20\n"
          ]
        }
      ]
    }
  ]
}