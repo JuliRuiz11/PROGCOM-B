{
  "nbformat": 4,
  "nbformat_minor": 0,
  "metadata": {
    "colab": {
      "provenance": [],
      "authorship_tag": "ABX9TyPapNJGJKh333DNnhgDI5D3",
      "include_colab_link": true
    },
    "kernelspec": {
      "name": "python3",
      "display_name": "Python 3"
    },
    "language_info": {
      "name": "python"
    }
  },
  "cells": [
    {
      "cell_type": "markdown",
      "metadata": {
        "id": "view-in-github",
        "colab_type": "text"
      },
      "source": [
        "<a href=\"https://colab.research.google.com/github/JuliRuiz11/PROGCOM-B/blob/main/GQ3_(SOLUCI%C3%93N%2C_Unidades_a_Volt.ipynb\" target=\"_parent\"><img src=\"https://colab.research.google.com/assets/colab-badge.svg\" alt=\"Open In Colab\"/></a>"
      ]
    },
    {
      "cell_type": "code",
      "execution_count": 1,
      "metadata": {
        "colab": {
          "base_uri": "https://localhost:8080/"
        },
        "id": "S3Jc_BJ_HvPp",
        "outputId": "b7a980d1-44f6-429a-c484-9b2ed6653156"
      },
      "outputs": [
        {
          "output_type": "stream",
          "name": "stdout",
          "text": [
            "=== Conversor a Voltios ===\n",
            "1. Usando corriente y resistencia (Ley de Ohm)\n",
            "2. Usando potencia y corriente\n",
            "Selecciona una opción (1 o 2): 1\n",
            "Ingresa la corriente en amperios (A): 20\n",
            "Ingresa la resistencia en ohmios (Ω): 7\n",
            "Voltaje calculado: 140.0 V\n"
          ]
        }
      ],
      "source": [
        "# Conversor a Voltios\n",
        "\n",
        "def voltaje_por_ohm(corriente, resistencia):\n",
        "    \"\"\"Calcula el voltaje usando V = I * R\"\"\"\n",
        "    return corriente * resistencia\n",
        "\n",
        "def voltaje_por_potencia(potencia, corriente):\n",
        "    \"\"\"Calcula el voltaje usando V = P / I\"\"\"\n",
        "    return potencia / corriente\n",
        "\n",
        "# Menú simple\n",
        "print(\"=== Conversor a Voltios ===\")\n",
        "print(\"1. Usando corriente y resistencia (Ley de Ohm)\")\n",
        "print(\"2. Usando potencia y corriente\")\n",
        "\n",
        "opcion = input(\"Selecciona una opción (1 o 2): \")\n",
        "\n",
        "if opcion == \"1\":\n",
        "    I = float(input(\"Ingresa la corriente en amperios (A): \"))\n",
        "    R = float(input(\"Ingresa la resistencia en ohmios (Ω): \"))\n",
        "    V = voltaje_por_ohm(I, R)\n",
        "    print(f\"Voltaje calculado: {V} V\")\n",
        "elif opcion == \"2\":\n",
        "    P = float(input(\"Ingresa la potencia en vatios (W): \"))\n",
        "    I = float(input(\"Ingresa la corriente en amperios (A): \"))\n",
        "    V = voltaje_por_potencia(P, I)\n",
        "    print(f\"Voltaje calculado: {V} V\")\n",
        "else:\n",
        "    print(\"Opción no válida\")\n"
      ]
    }
  ]
}