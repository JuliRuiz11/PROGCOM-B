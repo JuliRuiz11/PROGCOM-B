{
  "nbformat": 4,
  "nbformat_minor": 0,
  "metadata": {
    "colab": {
      "provenance": [],
      "authorship_tag": "ABX9TyPUfbreFrO12N5r45ECYtzO",
      "include_colab_link": true
    },
    "kernelspec": {
      "name": "python3",
      "display_name": "Python 3"
    },
    "language_info": {
      "name": "python"
    }
  },
  "cells": [
    {
      "cell_type": "markdown",
      "metadata": {
        "id": "view-in-github",
        "colab_type": "text"
      },
      "source": [
        "<a href=\"https://colab.research.google.com/github/JuliRuiz11/PROGCOM-B/blob/main/Trabajo_Casita.ipynb\" target=\"_parent\"><img src=\"https://colab.research.google.com/assets/colab-badge.svg\" alt=\"Open In Colab\"/></a>"
      ]
    },
    {
      "cell_type": "markdown",
      "source": [
        "##Diseño Floristeria Flores Jul"
      ],
      "metadata": {
        "id": "GSCXKsUXH2Zo"
      }
    },
    {
      "cell_type": "code",
      "source": [
        "print(\"Bienvenid@ a la Floristeria ´Flores Jul´\")\n",
        "print(\"Escoge la parte que deseas conocer: \")\n",
        "print(\"1. Tejado\")\n",
        "print(\"2. Vitrina\")\n",
        "print(\"3. Entrada principal\")\n",
        "print(\"4. Pared Lateral\")\n",
        "print(\"5. Pared Trasera\")\n",
        "\n",
        "opción= input(\"Escribe el número correspondiente a la parte deseada a mostrar: \")\n",
        "\n",
        "if opción == \"1\":\n",
        "  print(\"Tejado\")\n",
        "  print(\"El tejado de esta floristeria se divide en dos lados con diferentes diseños\")\n",
        "  print(\"El lado derecho está de color castaño con una flor rosa, flor amarilla, flor morada y una flor roja con lineas azules simulando enredadeeras\")\n",
        "  print(\"El lado izquierdo está de color castaño con una flor rosa, flor azul y una amarilla con lineas azules simuland enredaderas\")\n",
        "\n",
        "elif opción == \"2\":\n",
        "  print(\"Vitrina\")\n",
        "  print(\"La vitrina muestra el letrero del nombre del lugar, tambien dejando a la vista 3 macetas con diferentes tipos de flores (hibisco tropical)(dalia de fuego)(protea real) que forman parte de nuestro catalogo de venta\")\n",
        "\n",
        "elif opción == \"3\":\n",
        "  print(\"Entrada Pricipal\")\n",
        "  print(\"La entrada principal tiene una puerta de cristal reforzado de alta seguridad que deja ver el interior de la floristería, tambien las paredes tienen enredaderas y dos macetas de color amarillo colgando de las enredaderas de la parte superior\")\n",
        "\n",
        "elif opción == \"4\":\n",
        "  print(\"Pared Lateral\")\n",
        "  print(\"Tiene una ventana con dos flores en exposicioón (orquidea fantasma)(jazmin de Madagascar)(lirio estelar) y en las paredes con enredaderas con rosas rojas\")\n",
        "\n",
        "elif opción == \"5\":\n",
        "  print(\"Tiene un diseño con gotas de agua cayendo de las nubes con el sol sin ser tapado dandole luz y agua a la flor (flor de loto azul) y los bordes con enredaderas con rosas rosadas\")\n",
        "\n",
        "else:\n",
        "  print(\"n/Número no valido. Por favor eliga una opción del 1 al 5. Gracias.\")"
      ],
      "metadata": {
        "colab": {
          "base_uri": "https://localhost:8080/"
        },
        "id": "ZO6Ofk1lRIvr",
        "outputId": "c523c971-7354-43a9-b930-1318b2db56ae"
      },
      "execution_count": 23,
      "outputs": [
        {
          "output_type": "stream",
          "name": "stdout",
          "text": [
            "Bienvenid@ a la Floristeria ´Flores Jul´\n",
            "Escoge la parte que deseas conocer: \n",
            "1. Tejado\n",
            "2. Vitrina\n",
            "3. Entrada principal\n",
            "4. Pared Lateral\n",
            "5. Pared Trasera\n",
            "Escribe el número correspondiente a la parte deseada a mostrar: 4\n",
            "Pared Lateral\n",
            "Tiene una ventana con dos flores en exposicioón (orquidea fantasma)(jazmin de Madagascar)(lirio estelar) y en las paredes con enredaderas con rosas rojas\n"
          ]
        }
      ]
    }
  ]
}