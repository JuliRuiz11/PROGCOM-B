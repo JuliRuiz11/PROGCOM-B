{
  "nbformat": 4,
  "nbformat_minor": 0,
  "metadata": {
    "colab": {
      "provenance": [],
      "authorship_tag": "ABX9TyNbF5cJQ1ySwIb39QhR02Rh",
      "include_colab_link": true
    },
    "kernelspec": {
      "name": "python3",
      "display_name": "Python 3"
    },
    "language_info": {
      "name": "python"
    }
  },
  "cells": [
    {
      "cell_type": "markdown",
      "metadata": {
        "id": "view-in-github",
        "colab_type": "text"
      },
      "source": [
        "<a href=\"https://colab.research.google.com/github/JuliRuiz11/PROGCOM-B/blob/main/Clase_6_Diccionarios.ipynb\" target=\"_parent\"><img src=\"https://colab.research.google.com/assets/colab-badge.svg\" alt=\"Open In Colab\"/></a>"
      ]
    },
    {
      "cell_type": "markdown",
      "source": [
        "##Diccionarios\n",
        "Estructuras de datos que almacena\n",
        "valores\n",
        "\n",
        "Sintaxis\n",
        "\n",
        "\n",
        "```\n",
        "nombre_diccionario={\"llave\":valor}\n",
        "```\n",
        "* Llave: **SIEMPRE** tiene que ser alfanumerico.\n",
        "\n",
        "* Valor: Cualquier dato."
      ],
      "metadata": {
        "id": "0BuR5uTpauuC"
      }
    },
    {
      "cell_type": "code",
      "execution_count": null,
      "metadata": {
        "id": "7pB0v7N7ZbXZ"
      },
      "outputs": [],
      "source": [
        "liga_justicia={\"superhéroes\": [\"Batman\",\"Superman\",\"Wonderwoman\"],\"Identidades\":[\"Bruce Wayne\",\"Clark Kent\",\"Diana Prince\"]}"
      ]
    },
    {
      "cell_type": "code",
      "source": [
        "type(liga_justicia)"
      ],
      "metadata": {
        "colab": {
          "base_uri": "https://localhost:8080/"
        },
        "id": "pQLCpm_AckxR",
        "outputId": "e44d0698-a683-4032-ed34-bfbf91aac1d8"
      },
      "execution_count": null,
      "outputs": [
        {
          "output_type": "execute_result",
          "data": {
            "text/plain": [
              "dict"
            ]
          },
          "metadata": {},
          "execution_count": 257
        }
      ]
    },
    {
      "cell_type": "code",
      "source": [
        "liga_justicia"
      ],
      "metadata": {
        "colab": {
          "base_uri": "https://localhost:8080/"
        },
        "id": "ZAkI0HhTcxKu",
        "outputId": "672c1c47-bac3-444a-c5b4-d8fdeac5fbe8"
      },
      "execution_count": null,
      "outputs": [
        {
          "output_type": "execute_result",
          "data": {
            "text/plain": [
              "{'superhéroes': ['Batman', 'Superman', 'Wonderwoman'],\n",
              " 'Identidades': ['Bruce Wayne', 'Clark Kent', 'Diana Prince']}"
            ]
          },
          "metadata": {},
          "execution_count": 258
        }
      ]
    },
    {
      "cell_type": "markdown",
      "source": [
        "Los diccionarios **NO** tienen\n",
        "indexación"
      ],
      "metadata": {
        "id": "ePDRO_Mfc9o-"
      }
    },
    {
      "cell_type": "code",
      "source": [
        "liga_justicia{0}"
      ],
      "metadata": {
        "colab": {
          "base_uri": "https://localhost:8080/",
          "height": 106
        },
        "id": "IjBw29Qhc2-O",
        "outputId": "e373f961-2ad0-4794-9ad3-ce794888d2b4"
      },
      "execution_count": null,
      "outputs": [
        {
          "output_type": "error",
          "ename": "SyntaxError",
          "evalue": "invalid syntax (ipython-input-591462058.py, line 1)",
          "traceback": [
            "\u001b[0;36m  File \u001b[0;32m\"/tmp/ipython-input-591462058.py\"\u001b[0;36m, line \u001b[0;32m1\u001b[0m\n\u001b[0;31m    liga_justicia{0}\u001b[0m\n\u001b[0m                 ^\u001b[0m\n\u001b[0;31mSyntaxError\u001b[0m\u001b[0;31m:\u001b[0m invalid syntax\n"
          ]
        }
      ]
    },
    {
      "cell_type": "code",
      "source": [
        "liga_justicia[\"superhéroes\"]"
      ],
      "metadata": {
        "colab": {
          "base_uri": "https://localhost:8080/"
        },
        "id": "GsJhHoMBdJH2",
        "outputId": "f79449ec-2b39-4c0b-c37c-ecf35d2e49b8"
      },
      "execution_count": null,
      "outputs": [
        {
          "output_type": "execute_result",
          "data": {
            "text/plain": [
              "['Batman', 'Superman', 'Wonderwoman']"
            ]
          },
          "metadata": {},
          "execution_count": 260
        }
      ]
    },
    {
      "cell_type": "code",
      "source": [
        "liga_justicia[\"Identidades\"][2]"
      ],
      "metadata": {
        "colab": {
          "base_uri": "https://localhost:8080/",
          "height": 35
        },
        "id": "1AW80D-gdlPW",
        "outputId": "06faf09f-b4e5-4f06-dfc6-00b7d1d1cdfa"
      },
      "execution_count": null,
      "outputs": [
        {
          "output_type": "execute_result",
          "data": {
            "text/plain": [
              "'Diana Prince'"
            ],
            "application/vnd.google.colaboratory.intrinsic+json": {
              "type": "string"
            }
          },
          "metadata": {},
          "execution_count": 261
        }
      ]
    },
    {
      "cell_type": "markdown",
      "source": [
        "#Funciones asociadas a los diccionarios."
      ],
      "metadata": {
        "id": "iKamyJZqekMV"
      }
    },
    {
      "cell_type": "markdown",
      "source": [
        "##1. Clear(): Elimina todos los elementos del diccionario\n",
        "Sintaxis\n"
      ],
      "metadata": {
        "id": "M3HrxbFIflwF"
      }
    },
    {
      "cell_type": "code",
      "source": [
        "liga_justicia.clear()"
      ],
      "metadata": {
        "id": "x5RAWS5Sfhkd"
      },
      "execution_count": null,
      "outputs": []
    },
    {
      "cell_type": "code",
      "source": [
        "liga_justicia"
      ],
      "metadata": {
        "colab": {
          "base_uri": "https://localhost:8080/"
        },
        "id": "qz8lXzaEk1_Q",
        "outputId": "433f3732-8ae7-428a-d4a2-c8c80de98613"
      },
      "execution_count": null,
      "outputs": [
        {
          "output_type": "execute_result",
          "data": {
            "text/plain": [
              "{}"
            ]
          },
          "metadata": {},
          "execution_count": 239
        }
      ]
    },
    {
      "cell_type": "markdown",
      "source": [
        "##2.Pop(): Sacas a un héroe del diccionario y dice su nombre"
      ],
      "metadata": {
        "id": "RYvUMjrggSO2"
      }
    },
    {
      "cell_type": "code",
      "source": [
        "liga_justicia.pop(\"superhéroes\")"
      ],
      "metadata": {
        "colab": {
          "base_uri": "https://localhost:8080/"
        },
        "id": "zcNteI-flkwX",
        "outputId": "9ed85b70-be64-45d6-aec7-409403e41608"
      },
      "execution_count": null,
      "outputs": [
        {
          "output_type": "execute_result",
          "data": {
            "text/plain": [
              "['Batman', 'Superman', 'Wonderwoman']"
            ]
          },
          "metadata": {},
          "execution_count": 262
        }
      ]
    },
    {
      "cell_type": "code",
      "source": [
        "liga_justicia"
      ],
      "metadata": {
        "colab": {
          "base_uri": "https://localhost:8080/"
        },
        "id": "8-2i1K8imgMQ",
        "outputId": "f6e92907-f35c-4a6f-cbca-a2e77e54d860"
      },
      "execution_count": null,
      "outputs": [
        {
          "output_type": "execute_result",
          "data": {
            "text/plain": [
              "{'Identidades': ['Bruce Wayne', 'Clark Kent', 'Diana Prince']}"
            ]
          },
          "metadata": {},
          "execution_count": 263
        }
      ]
    },
    {
      "cell_type": "markdown",
      "source": [
        "##3.Copy(): Hace una copia del diccionario"
      ],
      "metadata": {
        "id": "BvPWIYSpp_-M"
      }
    },
    {
      "cell_type": "code",
      "source": [
        "justicia_joven={}\n",
        "justicia_joven=liga_justicia.copy()\n",
        "justicia_joven"
      ],
      "metadata": {
        "colab": {
          "base_uri": "https://localhost:8080/"
        },
        "id": "afx-xSt9qBW7",
        "outputId": "e09c02f2-241f-43ec-cffb-b3995d370fbf"
      },
      "execution_count": null,
      "outputs": [
        {
          "output_type": "execute_result",
          "data": {
            "text/plain": [
              "{'Identidades': ['Bruce Wayne', 'Clark Kent', 'Diana Prince']}"
            ]
          },
          "metadata": {},
          "execution_count": 264
        }
      ]
    },
    {
      "cell_type": "code",
      "source": [
        "justicie_gank=liga_justicia\n",
        "justicie_gank"
      ],
      "metadata": {
        "colab": {
          "base_uri": "https://localhost:8080/"
        },
        "id": "sJgfVmz1qPIz",
        "outputId": "1fae2b83-6118-42c4-a087-7a6f92efad8d"
      },
      "execution_count": null,
      "outputs": [
        {
          "output_type": "execute_result",
          "data": {
            "text/plain": [
              "{'Identidades': ['Bruce Wayne', 'Clark Kent', 'Diana Prince']}"
            ]
          },
          "metadata": {},
          "execution_count": 265
        }
      ]
    },
    {
      "cell_type": "markdown",
      "source": [
        "##4.Dict.fromkeys():Crea un nuevo diccionario"
      ],
      "metadata": {
        "id": "EmgqIOX1qSqD"
      }
    },
    {
      "cell_type": "code",
      "source": [
        "liga_justicia={\"superhéroes\": [\"Batman\",\"Superman\",\"WonderWoman\"],\"identidades\":[\"Bruce Wayne\",\"Clark Kent\",\"Diana Prince\"]}"
      ],
      "metadata": {
        "id": "9BpGInM1qTyn"
      },
      "execution_count": null,
      "outputs": []
    },
    {
      "cell_type": "code",
      "source": [
        "justicia = dict.fromkeys(liga_justicia,0)"
      ],
      "metadata": {
        "id": "6St-stIKqZkj"
      },
      "execution_count": null,
      "outputs": []
    },
    {
      "cell_type": "code",
      "source": [
        "print(justicia)"
      ],
      "metadata": {
        "colab": {
          "base_uri": "https://localhost:8080/"
        },
        "id": "qTKpISzOqd_8",
        "outputId": "7a3cf3d0-0672-4035-945e-7cc3bbfd8229"
      },
      "execution_count": null,
      "outputs": [
        {
          "output_type": "stream",
          "name": "stdout",
          "text": [
            "{'superhéroes': 0, 'identidades': 0}\n"
          ]
        }
      ]
    },
    {
      "cell_type": "markdown",
      "source": [
        "##5. values(): Son los datos asociados a cada clave dentro de la estructura del diccionario"
      ],
      "metadata": {
        "id": "OJhjsLXtqycP"
      }
    },
    {
      "cell_type": "code",
      "source": [
        "liga_justicia.values()"
      ],
      "metadata": {
        "colab": {
          "base_uri": "https://localhost:8080/"
        },
        "id": "BfdTo_AJqvsE",
        "outputId": "47e5d192-0095-45a8-f124-aa2f588e0557"
      },
      "execution_count": null,
      "outputs": [
        {
          "output_type": "execute_result",
          "data": {
            "text/plain": [
              "dict_values([['Batman', 'Superman', 'WonderWoman'], ['Bruce Wayne', 'Clark Kent', 'Diana Prince']])"
            ]
          },
          "metadata": {},
          "execution_count": 289
        }
      ]
    },
    {
      "cell_type": "code",
      "source": [
        "liga_justicia"
      ],
      "metadata": {
        "colab": {
          "base_uri": "https://localhost:8080/"
        },
        "id": "TE2xLMFUsCBq",
        "outputId": "ad4f45ef-6f5e-4e9c-e378-03ba722dfc52"
      },
      "execution_count": null,
      "outputs": [
        {
          "output_type": "execute_result",
          "data": {
            "text/plain": [
              "{'superhéroes': ['Batman', 'Superman', 'WonderWoman'],\n",
              " 'identidades': ['Bruce Wayne', 'Clark Kent', 'Diana Prince']}"
            ]
          },
          "metadata": {},
          "execution_count": 290
        }
      ]
    },
    {
      "cell_type": "markdown",
      "source": [
        "##6. update(): Añadir o modificar pares clave-valor en un diccionario existente."
      ],
      "metadata": {
        "id": "WwfiTWM6tD2a"
      }
    },
    {
      "cell_type": "code",
      "source": [
        "liga_justicia.update(liga_justicia)"
      ],
      "metadata": {
        "id": "ylO0eiXBtlHB"
      },
      "execution_count": null,
      "outputs": []
    },
    {
      "cell_type": "code",
      "source": [
        "liga_justicia"
      ],
      "metadata": {
        "id": "LMO_dBm9uisJ",
        "outputId": "b6fc7cb9-d5c4-4356-cfd4-3b5c669e4797",
        "colab": {
          "base_uri": "https://localhost:8080/"
        }
      },
      "execution_count": null,
      "outputs": [
        {
          "output_type": "execute_result",
          "data": {
            "text/plain": [
              "{'superhéroes': ['Batman', 'Superman', 'WonderWoman'],\n",
              " 'identidades': ['Bruce Wayne', 'Clark Kent', 'Diana Prince']}"
            ]
          },
          "metadata": {},
          "execution_count": 296
        }
      ]
    },
    {
      "cell_type": "markdown",
      "source": [
        "Taller Diccionarios"
      ],
      "metadata": {
        "id": "eZzuto9EJDKf"
      }
    },
    {
      "cell_type": "code",
      "source": [
        "#1.Crea una función que reciba una lista de nombres y retorne cuántos nombres comienzan con vocal.\n",
        "def contar_vocales(nombres):\n",
        " Vocales=\"a,e,i,o,u,A,E,I,O,U\"\n",
        " return sum(1 for i in nombres if i[0] in Vocales)\n"
      ],
      "metadata": {
        "id": "vj0rb_PlJFru"
      },
      "execution_count": 2,
      "outputs": []
    },
    {
      "cell_type": "code",
      "source": [
        "nombres=[\"Ana\",\"Pedro\",\"Oscar\", \"Alisson\",\"Camila\"]\n",
        "contar_vocales(nombres)"
      ],
      "metadata": {
        "colab": {
          "base_uri": "https://localhost:8080/"
        },
        "id": "woauogTVJMIm",
        "outputId": "b5c1eb4e-c907-4586-a98c-7d63e1de36d6"
      },
      "execution_count": 3,
      "outputs": [
        {
          "output_type": "execute_result",
          "data": {
            "text/plain": [
              "3"
            ]
          },
          "metadata": {},
          "execution_count": 3
        }
      ]
    },
    {
      "cell_type": "code",
      "source": [
        "#2.Crea una función que reciba una lista y retorne otra lista sin elementos repetidos.\n",
        "def eliminar_repetidos(lista):\n",
        " nueva_lista=[]\n",
        " for i in lista:\n",
        "  if i not in nueva_lista:\n",
        "   nueva_lista.append(i)\n",
        " return nueva_lista"
      ],
      "metadata": {
        "id": "nhGGonvBJRYG"
      },
      "execution_count": 5,
      "outputs": []
    },
    {
      "cell_type": "code",
      "source": [
        "lista=[1,2,3,4,5,6,7,8,9,1,5,7,3]\n",
        "eliminar_repetidos(lista)"
      ],
      "metadata": {
        "colab": {
          "base_uri": "https://localhost:8080/"
        },
        "id": "VEfR4kDTJWw9",
        "outputId": "e8277410-3af8-4660-d2fd-936cf7878dfc"
      },
      "execution_count": 6,
      "outputs": [
        {
          "output_type": "execute_result",
          "data": {
            "text/plain": [
              "[1, 2, 3, 4, 5, 6, 7, 8, 9]"
            ]
          },
          "metadata": {},
          "execution_count": 6
        }
      ]
    },
    {
      "cell_type": "code",
      "source": [
        "#3.Crea una función que reciba una lista de números y retorne solo los que son primos.\n",
        "def es_primo(numero):\n",
        " if numero<2:\n",
        "  return False\n",
        " for i in range(2,numero):\n",
        "  if numero%i==0:\n",
        "   return False\n",
        " return True"
      ],
      "metadata": {
        "id": "0-AnaI-jJhN9"
      },
      "execution_count": 7,
      "outputs": []
    },
    {
      "cell_type": "code",
      "source": [
        "def filtra_lista(lista):\n",
        "  return [i for i in lista if es_primo(i)]"
      ],
      "metadata": {
        "id": "nl8LWim7JltN"
      },
      "execution_count": 10,
      "outputs": []
    },
    {
      "cell_type": "code",
      "source": [
        "numeros=[1,2,3,4,5,6,7,8,9,10,11,12,13,14,15]\n",
        "filtra_lista(numeros)"
      ],
      "metadata": {
        "colab": {
          "base_uri": "https://localhost:8080/"
        },
        "id": "1t75QLFcJwgQ",
        "outputId": "5ef0744e-4743-42f7-c20f-698c001b8b70"
      },
      "execution_count": 11,
      "outputs": [
        {
          "output_type": "execute_result",
          "data": {
            "text/plain": [
              "[2, 3, 5, 7, 11, 13]"
            ]
          },
          "metadata": {},
          "execution_count": 11
        }
      ]
    },
    {
      "cell_type": "code",
      "source": [
        "#4.Crea una función que reciba un diccionario con claves \"nombre\", \"edad\", y retorne un mensaje con esos datos.\n",
        "def mostrar_datos(persona):\n",
        "  nombre=persona[\"nombre\"]\n",
        "  edad=persona[\"edad\"]\n",
        "  return f\"El nombre es {nombre} y la edad es {edad}\""
      ],
      "metadata": {
        "id": "gs_V3PjNJ1_t"
      },
      "execution_count": 12,
      "outputs": []
    },
    {
      "cell_type": "code",
      "source": [
        "datos={\"nombre\": \"Ana\",\"edad\": 25}\n",
        "mostrar_datos(datos)"
      ],
      "metadata": {
        "colab": {
          "base_uri": "https://localhost:8080/",
          "height": 35
        },
        "id": "Kf4Y_0lQJ5FF",
        "outputId": "a7427ce6-1bc7-42d3-cd0f-f105087229df"
      },
      "execution_count": 13,
      "outputs": [
        {
          "output_type": "execute_result",
          "data": {
            "text/plain": [
              "'El nombre es Ana y la edad es 25'"
            ],
            "application/vnd.google.colaboratory.intrinsic+json": {
              "type": "string"
            }
          },
          "metadata": {},
          "execution_count": 13
        }
      ]
    },
    {
      "cell_type": "code",
      "source": [
        "def total_productos(productos):\n",
        "    total = sum([precio for precio in productos.values()])\n",
        "    resultado = {\n",
        "        \"productos\": productos,\n",
        "        \"total\": total\n",
        "    }\n",
        "    return resultado"
      ],
      "metadata": {
        "id": "gzig2CYRJ_DV"
      },
      "execution_count": 14,
      "outputs": []
    },
    {
      "cell_type": "code",
      "source": [
        "print(total_productos({\"pan\": 1500, \"leche\": 3000, \"huevos\": 5000}))\n",
        "print(total_productos({\"arroz\": 2500, \"pollo\": 8000}))"
      ],
      "metadata": {
        "colab": {
          "base_uri": "https://localhost:8080/"
        },
        "id": "yZXS9G9TKAI1",
        "outputId": "463526e9-bf97-4424-bd1f-787bf35a3b3a"
      },
      "execution_count": 15,
      "outputs": [
        {
          "output_type": "stream",
          "name": "stdout",
          "text": [
            "{'productos': {'pan': 1500, 'leche': 3000, 'huevos': 5000}, 'total': 9500}\n",
            "{'productos': {'arroz': 2500, 'pollo': 8000}, 'total': 10500}\n"
          ]
        }
      ]
    },
    {
      "cell_type": "code",
      "source": [
        "def promedio_estudiantes(estudiantes):\n",
        "    promedio = sum([nota for nota in estudiantes.values()]) / len(estudiantes)\n",
        "    resultado = {\n",
        "        \"estudiantes\": estudiantes,\n",
        "        \"promedio\": promedio\n",
        "    }\n",
        "    return resultado"
      ],
      "metadata": {
        "id": "_aZZQX8tKD1A"
      },
      "execution_count": 16,
      "outputs": []
    },
    {
      "cell_type": "code",
      "source": [
        "print(promedio_estudiantes({\"Ana\": 4.5, \"Luis\": 3.8, \"Marta\": 5.0}))\n",
        "print(promedio_estudiantes({\"Pedro\": 2.5, \"Juan\": 3.0, \"Sofía\": 4.0}))"
      ],
      "metadata": {
        "colab": {
          "base_uri": "https://localhost:8080/"
        },
        "id": "J1qMJ5R9KIWt",
        "outputId": "d6ff6eb8-c9b6-4946-df68-a40434ad8b34"
      },
      "execution_count": 17,
      "outputs": [
        {
          "output_type": "stream",
          "name": "stdout",
          "text": [
            "{'estudiantes': {'Ana': 4.5, 'Luis': 3.8, 'Marta': 5.0}, 'promedio': 4.433333333333334}\n",
            "{'estudiantes': {'Pedro': 2.5, 'Juan': 3.0, 'Sofía': 4.0}, 'promedio': 3.1666666666666665}\n"
          ]
        }
      ]
    },
    {
      "cell_type": "code",
      "source": [
        "def buscar_nota(estudiantes, nombre):\n",
        "    resultado = {\n",
        "        \"nombre\": nombre,\n",
        "        \"nota\": estudiantes.get(nombre, \"no encontrado\")\n",
        "    }\n",
        "    return resultado"
      ],
      "metadata": {
        "id": "uvugmJrwKLGs"
      },
      "execution_count": 18,
      "outputs": []
    },
    {
      "cell_type": "code",
      "source": [
        "print(buscar_nota({\"Ana\": 4.5, \"Luis\": 3.8, \"Marta\": 5.0}, \"Luis\"))\n",
        "print(buscar_nota({\"Ana\": 4.5, \"Luis\": 3.8, \"Marta\": 5.0}, \"Pedro\"))"
      ],
      "metadata": {
        "colab": {
          "base_uri": "https://localhost:8080/"
        },
        "id": "e5GgUW4wKQBM",
        "outputId": "fff3072e-098a-4c17-d4f3-7d2bdc5dc3b5"
      },
      "execution_count": 19,
      "outputs": [
        {
          "output_type": "stream",
          "name": "stdout",
          "text": [
            "{'nombre': 'Luis', 'nota': 3.8}\n",
            "{'nombre': 'Pedro', 'nota': 'no encontrado'}\n"
          ]
        }
      ]
    },
    {
      "cell_type": "code",
      "source": [
        "def mejor_estudiante(estudiantes):\n",
        "    nombre = max(estudiantes, key=lambda x: estudiantes[x])\n",
        "    resultado = {\n",
        "        \"estudiantes\": estudiantes,\n",
        "        \"mejor_estudiante\": nombre,\n",
        "        \"nota\": estudiantes[nombre]\n",
        "    }\n",
        "    return resultado"
      ],
      "metadata": {
        "id": "zjTh_gsjKU89"
      },
      "execution_count": 20,
      "outputs": []
    },
    {
      "cell_type": "code",
      "source": [
        "print(mejor_estudiante({\"Ana\": 4.5, \"Luis\": 3.8, \"Marta\": 5.0}))\n",
        "print(mejor_estudiante({\"Pedro\": 2.5, \"Juan\": 3.0, \"Sofía\": 4.0}))"
      ],
      "metadata": {
        "colab": {
          "base_uri": "https://localhost:8080/"
        },
        "id": "AyGvNijmKWOd",
        "outputId": "4a06b33c-3c9c-416a-98c0-07a304d4403e"
      },
      "execution_count": 21,
      "outputs": [
        {
          "output_type": "stream",
          "name": "stdout",
          "text": [
            "{'estudiantes': {'Ana': 4.5, 'Luis': 3.8, 'Marta': 5.0}, 'mejor_estudiante': 'Marta', 'nota': 5.0}\n",
            "{'estudiantes': {'Pedro': 2.5, 'Juan': 3.0, 'Sofía': 4.0}, 'mejor_estudiante': 'Sofía', 'nota': 4.0}\n"
          ]
        }
      ]
    },
    {
      "cell_type": "code",
      "source": [],
      "metadata": {
        "id": "oYDBL9lRKZ6e"
      },
      "execution_count": null,
      "outputs": []
    }
  ]
}