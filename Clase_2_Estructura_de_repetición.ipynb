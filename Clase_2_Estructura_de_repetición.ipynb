{
  "nbformat": 4,
  "nbformat_minor": 0,
  "metadata": {
    "colab": {
      "provenance": [],
      "authorship_tag": "ABX9TyOj5EGzF0u0phE9VZ9L6O6B",
      "include_colab_link": true
    },
    "kernelspec": {
      "name": "python3",
      "display_name": "Python 3"
    },
    "language_info": {
      "name": "python"
    }
  },
  "cells": [
    {
      "cell_type": "markdown",
      "metadata": {
        "id": "view-in-github",
        "colab_type": "text"
      },
      "source": [
        "<a href=\"https://colab.research.google.com/github/JuliRuiz11/PROGCOM-B/blob/main/Clase_2_Estructura_de_repetici%C3%B3n.ipynb\" target=\"_parent\"><img src=\"https://colab.research.google.com/assets/colab-badge.svg\" alt=\"Open In Colab\"/></a>"
      ]
    },
    {
      "cell_type": "markdown",
      "source": [
        "##Estructuras de repetición\n",
        "Se emplean cuando se desea repetir una parte del codigo, dada una condición"
      ],
      "metadata": {
        "id": "uBVdu59DlJzS"
      }
    },
    {
      "cell_type": "markdown",
      "source": [
        "##Listas\n",
        "* Son un conjunto de objetos,\n",
        " **indexado**, separado por comas, y\n",
        " encerrado entre [].\n",
        "* Todos los elementos dentro de una\n",
        "lista, se empiezan a contar desde 0.\n",
        "###Creación de listas\n",
        "* Forma general: lista=[]\n",
        "* Forma manual animales=[\"Gato\", \"perro\", \"zorro\", \"oso\"]\n",
        "* Por conversación número=list(range(10))\n",
        " Lista=[]"
      ],
      "metadata": {
        "id": "8yvnpakgvbRP"
      }
    },
    {
      "cell_type": "code",
      "source": [
        "lista=[]"
      ],
      "metadata": {
        "id": "jwo0cPaPw9ZA"
      },
      "execution_count": 6,
      "outputs": []
    },
    {
      "cell_type": "code",
      "source": [
        "type(lista)"
      ],
      "metadata": {
        "colab": {
          "base_uri": "https://localhost:8080/"
        },
        "id": "BQD7B5SvxH0H",
        "outputId": "ae225983-f6fb-4d4a-e28e-cd6ccc4d968b"
      },
      "execution_count": 7,
      "outputs": [
        {
          "output_type": "execute_result",
          "data": {
            "text/plain": [
              "list"
            ]
          },
          "metadata": {},
          "execution_count": 7
        }
      ]
    },
    {
      "cell_type": "code",
      "source": [
        "zorro=(1,2,3,4)\n",
        "animales=[\"gato\",\"perro\",\"zorro\",\"oso\"]\n",
        "animales"
      ],
      "metadata": {
        "colab": {
          "base_uri": "https://localhost:8080/"
        },
        "id": "byj-DH7zxWYX",
        "outputId": "ee86c7ff-fd54-40a6-e58d-68c4bc764f57"
      },
      "execution_count": 2,
      "outputs": [
        {
          "output_type": "execute_result",
          "data": {
            "text/plain": [
              "['gato', 'perro', 'zorro', 'oso']"
            ]
          },
          "metadata": {},
          "execution_count": 2
        }
      ]
    },
    {
      "cell_type": "code",
      "source": [
        "type(zorro)"
      ],
      "metadata": {
        "colab": {
          "base_uri": "https://localhost:8080/"
        },
        "id": "I8BL7veVxw_u",
        "outputId": "0c1ae931-634e-4b49-9960-215d87240283"
      },
      "execution_count": 3,
      "outputs": [
        {
          "output_type": "execute_result",
          "data": {
            "text/plain": [
              "tuple"
            ]
          },
          "metadata": {},
          "execution_count": 3
        }
      ]
    },
    {
      "cell_type": "code",
      "source": [
        "número=list(range(10))\n",
        "número"
      ],
      "metadata": {
        "colab": {
          "base_uri": "https://localhost:8080/"
        },
        "id": "5nCCDxLbz5wx",
        "outputId": "59dc9243-cf20-4d2f-8e6f-afa7f2ea2704"
      },
      "execution_count": 16,
      "outputs": [
        {
          "output_type": "execute_result",
          "data": {
            "text/plain": [
              "[0, 1, 2, 3, 4, 5, 6, 7, 8, 9]"
            ]
          },
          "metadata": {},
          "execution_count": 16
        }
      ]
    },
    {
      "cell_type": "code",
      "source": [
        "type(range(10))"
      ],
      "metadata": {
        "colab": {
          "base_uri": "https://localhost:8080/"
        },
        "id": "eu0HfkB3z8RP",
        "outputId": "e7f186a8-b4bd-4e54-be32-18e0e38207c3"
      },
      "execution_count": 17,
      "outputs": [
        {
          "output_type": "execute_result",
          "data": {
            "text/plain": [
              "range"
            ]
          },
          "metadata": {},
          "execution_count": 17
        }
      ]
    },
    {
      "cell_type": "code",
      "source": [
        "range(10)"
      ],
      "metadata": {
        "colab": {
          "base_uri": "https://localhost:8080/"
        },
        "id": "8Bgewq3kz_yY",
        "outputId": "2d504157-e39f-4c22-9e61-9bc0b6725eff"
      },
      "execution_count": 18,
      "outputs": [
        {
          "output_type": "execute_result",
          "data": {
            "text/plain": [
              "range(0, 10)"
            ]
          },
          "metadata": {},
          "execution_count": 18
        }
      ]
    },
    {
      "cell_type": "markdown",
      "source": [
        "#Estructura para For\n",
        "Se usa cuando\n",
        "* Se sabe **cuantas veces** se repite una acción.\n",
        "* Esta compuesta por um contador y una condición.\n",
        "* **Cotador**: Identifica cuantas veces se va a repetir el bucle y con que frecuencia.\n",
        "* **Condición**: evalua cuando se detiene\n",
        "\n",
        "\n",
        "\n",
        "```\n",
        "for variable in range (vi, vf+1, paso):\n",
        "  aquí se repite parte del codigo.\n",
        "```\n",
        "Donde\n",
        "1. vi:condición inicial, donde arranco a contar\n",
        "2. vf+1:condición final donde dejo de contar+1\n",
        "3. paso: Frecuencia de conteo\n",
        "\n",
        "for para recorrido de lista\n",
        "flor=[\"amapola\",\"rosa\",\"tulipan\", \"orquidea\"]\n",
        "* El para va a iterar tantas veces como elementos tenga la lista\n",
        "* Variable dentro del para, toma como el valor cada elemento de la lista\n",
        "```\n",
        "for variable in lista:\n",
        "  variable\n",
        "```\n",
        "\n"
      ],
      "metadata": {
        "id": "T9vtBUkzlbYA"
      }
    },
    {
      "cell_type": "code",
      "source": [
        "#Creando una lista de nombre flor\n",
        "flor=[\"amapola\",\"rosa\",\"tulipan\", \"orquidea\"]\n",
        "for flores in flor:\n",
        "      print(flores)\n",
        "      if flores==\"tulipan\":\n",
        "        break"
      ],
      "metadata": {
        "colab": {
          "base_uri": "https://localhost:8080/"
        },
        "id": "qj-Yt_pw0R7u",
        "outputId": "7053f768-b29e-41cd-b1f4-b41c5cc1ae87"
      },
      "execution_count": 21,
      "outputs": [
        {
          "output_type": "stream",
          "name": "stdout",
          "text": [
            "amapola\n",
            "rosa\n",
            "tulipan\n"
          ]
        }
      ]
    },
    {
      "cell_type": "markdown",
      "source": [
        "##Estructura While\n",
        "* Se emplea cuando **NO SE SABE**\n",
        "cuántas veces de debe repetir una\n",
        "acción, pero si se conoce su\n",
        "condición de parada (CP).\n",
        "* Condición inicial: Donde\n",
        "arranca el ciclo\n",
        "* Condición final (parada): Que\n",
        "indica dónde se detiene el ciclo\n",
        "* Modificador de condición inicial\n",
        "\n",
        "Estructura general del mientras\n",
        "\n",
        "\n",
        "```\n",
        "Condición inicial\n",
        "while (condición:==condición final):\n",
        "    \n",
        "    modificador de condición inicial\n",
        "```\n",
        "Modificadores de una condición inicial\n",
        "* Banderas: booleanos\n",
        "* Son preguntas\n",
        "* Son contadores o acumuladores\n",
        "\n"
      ],
      "metadata": {
        "id": "JtvQHzjL10Ci"
      }
    }
  ]
}