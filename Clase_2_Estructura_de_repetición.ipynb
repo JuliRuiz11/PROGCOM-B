{
  "nbformat": 4,
  "nbformat_minor": 0,
  "metadata": {
    "colab": {
      "provenance": [],
      "authorship_tag": "ABX9TyNVt4m/Fzqrrdv2W6eWZCaM",
      "include_colab_link": true
    },
    "kernelspec": {
      "name": "python3",
      "display_name": "Python 3"
    },
    "language_info": {
      "name": "python"
    }
  },
  "cells": [
    {
      "cell_type": "markdown",
      "metadata": {
        "id": "view-in-github",
        "colab_type": "text"
      },
      "source": [
        "<a href=\"https://colab.research.google.com/github/JuliRuiz11/PROGCOM-B/blob/main/Clase_2_Estructura_de_repetici%C3%B3n.ipynb\" target=\"_parent\"><img src=\"https://colab.research.google.com/assets/colab-badge.svg\" alt=\"Open In Colab\"/></a>"
      ]
    },
    {
      "cell_type": "markdown",
      "source": [
        "##Estructuras de repetición\n",
        "Se emplean cuando se desea repetir una parte del codigo, dada una condición"
      ],
      "metadata": {
        "id": "uBVdu59DlJzS"
      }
    },
    {
      "cell_type": "markdown",
      "source": [
        "##Listas\n",
        "* Son un conjunto de objetos,\n",
        " **indexado**, separado por comas, y\n",
        " encerrado entre [].\n",
        "* Todos los elementos dentro de una\n",
        "lista, se empiezan a contar desde 0.\n",
        "###Creación de listas\n",
        "* Forma general: lista=[]\n",
        "* Forma manual animales=[\"Gato\", \"perro\", \"zorro\", \"oso\"]\n",
        "* Por conversación número=list(range(10))\n",
        " Lista=[]"
      ],
      "metadata": {
        "id": "8yvnpakgvbRP"
      }
    },
    {
      "cell_type": "code",
      "source": [
        "lista=[]"
      ],
      "metadata": {
        "id": "jwo0cPaPw9ZA"
      },
      "execution_count": null,
      "outputs": []
    },
    {
      "cell_type": "code",
      "source": [
        "type(lista)"
      ],
      "metadata": {
        "colab": {
          "base_uri": "https://localhost:8080/"
        },
        "id": "BQD7B5SvxH0H",
        "outputId": "ae225983-f6fb-4d4a-e28e-cd6ccc4d968b"
      },
      "execution_count": null,
      "outputs": [
        {
          "output_type": "execute_result",
          "data": {
            "text/plain": [
              "list"
            ]
          },
          "metadata": {},
          "execution_count": 7
        }
      ]
    },
    {
      "cell_type": "code",
      "source": [
        "zorro=(1,2,3,4)\n",
        "animales=[\"gato\",\"perro\",\"zorro\",\"oso\"]\n",
        "animales"
      ],
      "metadata": {
        "colab": {
          "base_uri": "https://localhost:8080/"
        },
        "id": "byj-DH7zxWYX",
        "outputId": "ee86c7ff-fd54-40a6-e58d-68c4bc764f57"
      },
      "execution_count": null,
      "outputs": [
        {
          "output_type": "execute_result",
          "data": {
            "text/plain": [
              "['gato', 'perro', 'zorro', 'oso']"
            ]
          },
          "metadata": {},
          "execution_count": 2
        }
      ]
    },
    {
      "cell_type": "code",
      "source": [
        "type(zorro)"
      ],
      "metadata": {
        "colab": {
          "base_uri": "https://localhost:8080/"
        },
        "id": "I8BL7veVxw_u",
        "outputId": "0c1ae931-634e-4b49-9960-215d87240283"
      },
      "execution_count": null,
      "outputs": [
        {
          "output_type": "execute_result",
          "data": {
            "text/plain": [
              "tuple"
            ]
          },
          "metadata": {},
          "execution_count": 3
        }
      ]
    },
    {
      "cell_type": "code",
      "source": [
        "número=list(range(10))\n",
        "número"
      ],
      "metadata": {
        "colab": {
          "base_uri": "https://localhost:8080/"
        },
        "id": "5nCCDxLbz5wx",
        "outputId": "59dc9243-cf20-4d2f-8e6f-afa7f2ea2704"
      },
      "execution_count": null,
      "outputs": [
        {
          "output_type": "execute_result",
          "data": {
            "text/plain": [
              "[0, 1, 2, 3, 4, 5, 6, 7, 8, 9]"
            ]
          },
          "metadata": {},
          "execution_count": 16
        }
      ]
    },
    {
      "cell_type": "code",
      "source": [
        "type(range(10))"
      ],
      "metadata": {
        "colab": {
          "base_uri": "https://localhost:8080/"
        },
        "id": "eu0HfkB3z8RP",
        "outputId": "e7f186a8-b4bd-4e54-be32-18e0e38207c3"
      },
      "execution_count": null,
      "outputs": [
        {
          "output_type": "execute_result",
          "data": {
            "text/plain": [
              "range"
            ]
          },
          "metadata": {},
          "execution_count": 17
        }
      ]
    },
    {
      "cell_type": "code",
      "source": [
        "range(10)"
      ],
      "metadata": {
        "colab": {
          "base_uri": "https://localhost:8080/"
        },
        "id": "8Bgewq3kz_yY",
        "outputId": "2d504157-e39f-4c22-9e61-9bc0b6725eff"
      },
      "execution_count": null,
      "outputs": [
        {
          "output_type": "execute_result",
          "data": {
            "text/plain": [
              "range(0, 10)"
            ]
          },
          "metadata": {},
          "execution_count": 18
        }
      ]
    },
    {
      "cell_type": "markdown",
      "source": [
        "#Estructura para For\n",
        "Se usa cuando\n",
        "* Se sabe **cuantas veces** se repite una acción.\n",
        "* Esta compuesta por um contador y una condición.\n",
        "* **Cotador**: Identifica cuantas veces se va a repetir el bucle y con que frecuencia.\n",
        "* **Condición**: evalua cuando se detiene\n",
        "\n",
        "\n",
        "\n",
        "```\n",
        "for variable in range (vi, vf+1, paso):\n",
        "  aquí se repite parte del codigo.\n",
        "```\n",
        "Donde\n",
        "1. vi:condición inicial, donde arranco a contar\n",
        "2. vf+1:condición final donde dejo de contar+1\n",
        "3. paso: Frecuencia de conteo\n",
        "\n",
        "for para recorrido de lista\n",
        "flor=[\"amapola\",\"rosa\",\"tulipan\", \"orquidea\"]\n",
        "* El para va a iterar tantas veces como elementos tenga la lista\n",
        "* Variable dentro del para, toma como el valor cada elemento de la lista\n",
        "```\n",
        "for variable in lista:\n",
        "  variable\n",
        "```\n",
        "\n"
      ],
      "metadata": {
        "id": "T9vtBUkzlbYA"
      }
    },
    {
      "cell_type": "code",
      "source": [
        "#Creando una lista de nombre flor\n",
        "flor=[\"amapola\",\"rosa\",\"tulipan\", \"orquidea\"]\n",
        "for flores in flor:\n",
        "      print(flores)\n",
        "      if flores==\"tulipan\":\n",
        "        break"
      ],
      "metadata": {
        "colab": {
          "base_uri": "https://localhost:8080/"
        },
        "id": "qj-Yt_pw0R7u",
        "outputId": "7053f768-b29e-41cd-b1f4-b41c5cc1ae87"
      },
      "execution_count": null,
      "outputs": [
        {
          "output_type": "stream",
          "name": "stdout",
          "text": [
            "amapola\n",
            "rosa\n",
            "tulipan\n"
          ]
        }
      ]
    },
    {
      "cell_type": "code",
      "source": [
        "name=[]\n",
        "for nombre in range(5):\n",
        "    name.append(input(\"ingrese su nombre \"))"
      ],
      "metadata": {
        "colab": {
          "base_uri": "https://localhost:8080/"
        },
        "id": "-zYwjEeiTRaT",
        "outputId": "30d6919b-aa0c-4b2f-edb0-0c6b8560e5bf"
      },
      "execution_count": 2,
      "outputs": [
        {
          "name": "stdout",
          "output_type": "stream",
          "text": [
            "ingrese su nombre Juli\n",
            "ingrese su nombre Juli\n",
            "ingrese su nombre Mar\n",
            "ingrese su nombre Mor\n",
            "ingrese su nombre Jul\n"
          ]
        }
      ]
    },
    {
      "cell_type": "markdown",
      "source": [
        "##Estructura While\n",
        "* Se emplea cuando **NO SE SABE**\n",
        "cuántas veces de debe repetir una\n",
        "acción, pero si se conoce su\n",
        "condición de parada (CP).\n",
        "* Condición inicial: Donde\n",
        "arranca el ciclo\n",
        "* Condición final (parada): Que\n",
        "indica dónde se detiene el ciclo\n",
        "* Modificador de condición inicial\n",
        "\n",
        "Estructura general del mientras\n",
        "\n",
        "\n",
        "```\n",
        "Condición inicial\n",
        "while (condición:==condición final):\n",
        "    \n",
        "    modificador de condición inicial\n",
        "```\n",
        "Modificadores de una condición inicial\n",
        "* Banderas: booleanos\n",
        "* Son preguntas\n",
        "* Son contadores o acumuladores\n",
        "\n"
      ],
      "metadata": {
        "id": "JtvQHzjL10Ci"
      }
    },
    {
      "cell_type": "markdown",
      "source": [
        "##Actividades For y listas"
      ],
      "metadata": {
        "id": "-fDJZrqqa0AQ"
      }
    },
    {
      "cell_type": "markdown",
      "source": [
        "Números de 1 a 10"
      ],
      "metadata": {
        "id": "kBIcINq8bE_7"
      }
    },
    {
      "cell_type": "code",
      "source": [
        "NUM=list(range(1,11))\n",
        "NUM"
      ],
      "metadata": {
        "colab": {
          "base_uri": "https://localhost:8080/"
        },
        "id": "v4bpHl0_a70L",
        "outputId": "29fba571-00ea-4f83-ab0c-be91a4853efa"
      },
      "execution_count": 7,
      "outputs": [
        {
          "output_type": "execute_result",
          "data": {
            "text/plain": [
              "[1, 2, 3, 4, 5, 6, 7, 8, 9, 10]"
            ]
          },
          "metadata": {},
          "execution_count": 7
        }
      ]
    },
    {
      "cell_type": "code",
      "source": [
        "for NUM in range (1,11):\n",
        "  print (NUM)"
      ],
      "metadata": {
        "colab": {
          "base_uri": "https://localhost:8080/"
        },
        "id": "gw4BTEgGbKTI",
        "outputId": "865f279b-b28a-4562-e2ad-b0ed1789cee3"
      },
      "execution_count": 4,
      "outputs": [
        {
          "output_type": "stream",
          "name": "stdout",
          "text": [
            "1\n",
            "2\n",
            "3\n",
            "4\n",
            "5\n",
            "6\n",
            "7\n",
            "8\n",
            "9\n",
            "10\n"
          ]
        }
      ]
    },
    {
      "cell_type": "code",
      "source": [
        "for NUM in NUM:\n",
        " print(NUM)"
      ],
      "metadata": {
        "colab": {
          "base_uri": "https://localhost:8080/"
        },
        "id": "n9rzS9pKbvR_",
        "outputId": "31332316-5458-4fcf-e75c-4c287c7858c3"
      },
      "execution_count": 10,
      "outputs": [
        {
          "output_type": "stream",
          "name": "stdout",
          "text": [
            "1\n",
            "2\n",
            "3\n",
            "4\n",
            "5\n",
            "6\n",
            "7\n",
            "8\n",
            "9\n",
            "10\n"
          ]
        }
      ]
    },
    {
      "cell_type": "markdown",
      "source": [
        "##Suma de números"
      ],
      "metadata": {
        "id": "AqZPno6WcMrh"
      }
    },
    {
      "cell_type": "code",
      "source": [
        "Suma=0\n",
        "Num=0\n",
        "for Num in range(1,101):\n",
        "  print(Suma,\"+\",Num,\"=\",Num+Suma)\n",
        "  Suma=Suma+Num\n",
        "print(\"Resultado final\",Suma)\n",
        "print(Num)"
      ],
      "metadata": {
        "colab": {
          "base_uri": "https://localhost:8080/"
        },
        "id": "GE8vM0x6dJqi",
        "outputId": "3334c66d-674f-491a-fe45-1f06bf2046e1"
      },
      "execution_count": 30,
      "outputs": [
        {
          "output_type": "stream",
          "name": "stdout",
          "text": [
            "0 + 1 = 1\n",
            "1 + 2 = 3\n",
            "3 + 3 = 6\n",
            "6 + 4 = 10\n",
            "10 + 5 = 15\n",
            "15 + 6 = 21\n",
            "21 + 7 = 28\n",
            "28 + 8 = 36\n",
            "36 + 9 = 45\n",
            "45 + 10 = 55\n",
            "55 + 11 = 66\n",
            "66 + 12 = 78\n",
            "78 + 13 = 91\n",
            "91 + 14 = 105\n",
            "105 + 15 = 120\n",
            "120 + 16 = 136\n",
            "136 + 17 = 153\n",
            "153 + 18 = 171\n",
            "171 + 19 = 190\n",
            "190 + 20 = 210\n",
            "210 + 21 = 231\n",
            "231 + 22 = 253\n",
            "253 + 23 = 276\n",
            "276 + 24 = 300\n",
            "300 + 25 = 325\n",
            "325 + 26 = 351\n",
            "351 + 27 = 378\n",
            "378 + 28 = 406\n",
            "406 + 29 = 435\n",
            "435 + 30 = 465\n",
            "465 + 31 = 496\n",
            "496 + 32 = 528\n",
            "528 + 33 = 561\n",
            "561 + 34 = 595\n",
            "595 + 35 = 630\n",
            "630 + 36 = 666\n",
            "666 + 37 = 703\n",
            "703 + 38 = 741\n",
            "741 + 39 = 780\n",
            "780 + 40 = 820\n",
            "820 + 41 = 861\n",
            "861 + 42 = 903\n",
            "903 + 43 = 946\n",
            "946 + 44 = 990\n",
            "990 + 45 = 1035\n",
            "1035 + 46 = 1081\n",
            "1081 + 47 = 1128\n",
            "1128 + 48 = 1176\n",
            "1176 + 49 = 1225\n",
            "1225 + 50 = 1275\n",
            "1275 + 51 = 1326\n",
            "1326 + 52 = 1378\n",
            "1378 + 53 = 1431\n",
            "1431 + 54 = 1485\n",
            "1485 + 55 = 1540\n",
            "1540 + 56 = 1596\n",
            "1596 + 57 = 1653\n",
            "1653 + 58 = 1711\n",
            "1711 + 59 = 1770\n",
            "1770 + 60 = 1830\n",
            "1830 + 61 = 1891\n",
            "1891 + 62 = 1953\n",
            "1953 + 63 = 2016\n",
            "2016 + 64 = 2080\n",
            "2080 + 65 = 2145\n",
            "2145 + 66 = 2211\n",
            "2211 + 67 = 2278\n",
            "2278 + 68 = 2346\n",
            "2346 + 69 = 2415\n",
            "2415 + 70 = 2485\n",
            "2485 + 71 = 2556\n",
            "2556 + 72 = 2628\n",
            "2628 + 73 = 2701\n",
            "2701 + 74 = 2775\n",
            "2775 + 75 = 2850\n",
            "2850 + 76 = 2926\n",
            "2926 + 77 = 3003\n",
            "3003 + 78 = 3081\n",
            "3081 + 79 = 3160\n",
            "3160 + 80 = 3240\n",
            "3240 + 81 = 3321\n",
            "3321 + 82 = 3403\n",
            "3403 + 83 = 3486\n",
            "3486 + 84 = 3570\n",
            "3570 + 85 = 3655\n",
            "3655 + 86 = 3741\n",
            "3741 + 87 = 3828\n",
            "3828 + 88 = 3916\n",
            "3916 + 89 = 4005\n",
            "4005 + 90 = 4095\n",
            "4095 + 91 = 4186\n",
            "4186 + 92 = 4278\n",
            "4278 + 93 = 4371\n",
            "4371 + 94 = 4465\n",
            "4465 + 95 = 4560\n",
            "4560 + 96 = 4656\n",
            "4656 + 97 = 4753\n",
            "4753 + 98 = 4851\n",
            "4851 + 99 = 4950\n",
            "4950 + 100 = 5050\n",
            "Resultado final 5050\n",
            "100\n"
          ]
        }
      ]
    },
    {
      "cell_type": "code",
      "source": [
        "Suma=list(range(1,101))\n",
        "Suma ="
      ],
      "metadata": {
        "colab": {
          "base_uri": "https://localhost:8080/",
          "height": 159
        },
        "id": "b5fZKobGf4eW",
        "outputId": "3f6a7e50-d148-4f17-94d0-20759a7cd36d"
      },
      "execution_count": 40,
      "outputs": [
        {
          "output_type": "error",
          "ename": "TypeError",
          "evalue": "'list' object is not callable",
          "traceback": [
            "\u001b[0;31m---------------------------------------------------------------------------\u001b[0m",
            "\u001b[0;31mTypeError\u001b[0m                                 Traceback (most recent call last)",
            "\u001b[0;32m/tmp/ipython-input-2531679508.py\u001b[0m in \u001b[0;36m<cell line: 0>\u001b[0;34m()\u001b[0m\n\u001b[1;32m      1\u001b[0m \u001b[0mSuma\u001b[0m\u001b[0;34m=\u001b[0m\u001b[0mlist\u001b[0m\u001b[0;34m(\u001b[0m\u001b[0mrange\u001b[0m\u001b[0;34m(\u001b[0m\u001b[0;36m1\u001b[0m\u001b[0;34m,\u001b[0m\u001b[0;36m101\u001b[0m\u001b[0;34m)\u001b[0m\u001b[0;34m)\u001b[0m\u001b[0;34m\u001b[0m\u001b[0;34m\u001b[0m\u001b[0m\n\u001b[0;32m----> 2\u001b[0;31m \u001b[0mSuma\u001b[0m \u001b[0;34m=\u001b[0m \u001b[0mSuma\u001b[0m\u001b[0;34m(\u001b[0m\u001b[0mNum\u001b[0m\u001b[0;34m)\u001b[0m\u001b[0;34m\u001b[0m\u001b[0;34m\u001b[0m\u001b[0m\n\u001b[0m",
            "\u001b[0;31mTypeError\u001b[0m: 'list' object is not callable"
          ]
        }
      ]
    }
  ]
}