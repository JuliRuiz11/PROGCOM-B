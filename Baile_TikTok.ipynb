{
  "nbformat": 4,
  "nbformat_minor": 0,
  "metadata": {
    "colab": {
      "provenance": [],
      "authorship_tag": "ABX9TyMOoinep3e62PepFGq9Rqdc",
      "include_colab_link": true
    },
    "kernelspec": {
      "name": "python3",
      "display_name": "Python 3"
    },
    "language_info": {
      "name": "python"
    }
  },
  "cells": [
    {
      "cell_type": "markdown",
      "metadata": {
        "id": "view-in-github",
        "colab_type": "text"
      },
      "source": [
        "<a href=\"https://colab.research.google.com/github/JuliRuiz11/PROGCOM-B/blob/main/Baile_TikTok.ipynb\" target=\"_parent\"><img src=\"https://colab.research.google.com/assets/colab-badge.svg\" alt=\"Open In Colab\"/></a>"
      ]
    },
    {
      "cell_type": "markdown",
      "source": [
        "https://youtube.com/shorts/mwLbZyHq_08?si=7zsu3uRFCkLztkyN"
      ],
      "metadata": {
        "id": "R27wbjJ8gjvc"
      }
    },
    {
      "cell_type": "code",
      "source": [
        "def Paso1(a,b):\n",
        "  for j in range(b):\n",
        "    for i in range(a):\n",
        "      print(\"Alzo el brazo hacia la derecha\")\n",
        "    for i in range(a):\n",
        "      print(\"Alzo el brazo hacia la izquierda\")"
      ],
      "metadata": {
        "id": "5c5RPcC9hdNb"
      },
      "execution_count": 61,
      "outputs": []
    },
    {
      "cell_type": "code",
      "execution_count": 62,
      "metadata": {
        "colab": {
          "base_uri": "https://localhost:8080/"
        },
        "id": "ZZfYn8NHghHM",
        "outputId": "0068431f-70a5-4bce-ae0c-667e6b37a1f2"
      },
      "outputs": [
        {
          "output_type": "stream",
          "name": "stdout",
          "text": [
            "Alzo el brazo hacia la derecha\n",
            "Alzo el brazo hacia la izquierda\n",
            "Alzo el brazo hacia la derecha\n",
            "Alzo el brazo hacia la izquierda\n"
          ]
        }
      ],
      "source": [
        "Paso1(1,2)"
      ]
    },
    {
      "cell_type": "code",
      "source": [
        "def Paso2(a,b):\n",
        "  for i in range(a):\n",
        "    print(\"Salto\")\n",
        "    print(\"Al mismo tiempo afirmar con la cabeza\")"
      ],
      "metadata": {
        "id": "o8zfRZ4OhK21"
      },
      "execution_count": 64,
      "outputs": []
    },
    {
      "cell_type": "code",
      "source": [
        "Paso2(4,\"saltar\")"
      ],
      "metadata": {
        "colab": {
          "base_uri": "https://localhost:8080/"
        },
        "id": "YcGDTuMsi88y",
        "outputId": "de1c7149-2e4d-4183-ed36-02c45eb80b8f"
      },
      "execution_count": 65,
      "outputs": [
        {
          "output_type": "stream",
          "name": "stdout",
          "text": [
            "Salto\n",
            "Al mismo tiempo afirmar con la cabeza\n",
            "Salto\n",
            "Al mismo tiempo afirmar con la cabeza\n",
            "Salto\n",
            "Al mismo tiempo afirmar con la cabeza\n",
            "Salto\n",
            "Al mismo tiempo afirmar con la cabeza\n"
          ]
        }
      ]
    },
    {
      "cell_type": "code",
      "source": [
        "def Paso3(a,b):\n",
        "  for i in range(a):\n",
        "   print(\"Mantengo los brazos arriba\")\n",
        "def muevo_cadera(a,b):\n",
        "  for j in range (b):\n",
        "    for i in range(a):\n",
        "      print(\"Muevo la cadera hacia la derecha\")\n",
        "    for i in range(a):\n",
        "      print(\"Muevo la cadera hacia la izquierda\")"
      ],
      "metadata": {
        "id": "3wMOOwBxjywy"
      },
      "execution_count": 66,
      "outputs": []
    },
    {
      "cell_type": "code",
      "source": [
        "Paso3(1,\"Mantengo los brazos arriba\")\n",
        "muevo_cadera(1,2)"
      ],
      "metadata": {
        "colab": {
          "base_uri": "https://localhost:8080/"
        },
        "id": "-fVWIaSJknuR",
        "outputId": "9364a307-e447-44c7-9be4-c399d62e05d4"
      },
      "execution_count": 67,
      "outputs": [
        {
          "output_type": "stream",
          "name": "stdout",
          "text": [
            "Mantengo los brazos arriba\n",
            "Muevo la cadera hacia la derecha\n",
            "Muevo la cadera hacia la izquierda\n",
            "Muevo la cadera hacia la derecha\n",
            "Muevo la cadera hacia la izquierda\n"
          ]
        }
      ]
    },
    {
      "cell_type": "code",
      "source": [
        "def Paso4(a,b):\n",
        "  for j in range(b):\n",
        "    print(\"Muevo los puños hacia la derecha\")\n",
        "    print(\"Muevo los puños hacia la izquierda\")\n",
        "\n",
        "\n",
        "def mover_la_cabeza(a,b):\n",
        "  for i in range(a):\n",
        "   print(\"Al mismo tiempo la cabeza locamente\")"
      ],
      "metadata": {
        "id": "WBh6gVB2kqvh"
      },
      "execution_count": 68,
      "outputs": []
    },
    {
      "cell_type": "code",
      "source": [
        "Paso4(1,2)\n",
        "mover_la_cabeza(1,\"Al mismo tiempo la cabeza locamente\")"
      ],
      "metadata": {
        "colab": {
          "base_uri": "https://localhost:8080/"
        },
        "id": "vS0iN2kZohi3",
        "outputId": "ee15307d-1f92-443f-9c89-725819af7062"
      },
      "execution_count": 69,
      "outputs": [
        {
          "output_type": "stream",
          "name": "stdout",
          "text": [
            "Muevo los puños hacia la derecha\n",
            "Muevo los puños hacia la izquierda\n",
            "Muevo los puños hacia la derecha\n",
            "Muevo los puños hacia la izquierda\n",
            "Al mismo tiempo la cabeza locamente\n"
          ]
        }
      ]
    },
    {
      "cell_type": "code",
      "source": [
        "def Paso5(a,b):\n",
        "  for j in range (b):\n",
        "    for i in range(a):\n",
        "      print(\"Muevo la cadera hacia la derecha\")\n",
        "    for i in range(a):\n",
        "      print(\"Muevo la cadera hacia la izquierda\")\n",
        "def palmas_abajo(a,b):\n",
        "  for i in range(a):\n",
        "    print(\"Se mantiene flexion de piernas y palmas abajo\")"
      ],
      "metadata": {
        "id": "XGLAwu0Wpt72"
      },
      "execution_count": 70,
      "outputs": []
    },
    {
      "cell_type": "code",
      "source": [
        "Paso5(1,2)\n",
        "palmas_abajo(1,\"Se mantiene flexion de piernas y palmas abajo\")"
      ],
      "metadata": {
        "colab": {
          "base_uri": "https://localhost:8080/"
        },
        "id": "9rKbBB-9pxKl",
        "outputId": "9e1b02af-bf0a-4323-a068-19001a1642e1"
      },
      "execution_count": 71,
      "outputs": [
        {
          "output_type": "stream",
          "name": "stdout",
          "text": [
            "Muevo la cadera hacia la derecha\n",
            "Muevo la cadera hacia la izquierda\n",
            "Muevo la cadera hacia la derecha\n",
            "Muevo la cadera hacia la izquierda\n",
            "Se mantiene flexion de piernas y palmas abajo\n"
          ]
        }
      ]
    },
    {
      "cell_type": "code",
      "source": [
        "def Paso6(a,b):\n",
        "  for i in range(a):\n",
        "    print(\"Muevo los brazos hacia la derecha\")\n",
        "    print(\"Muevo las piernas hacia la izquierda\")\n",
        "    print(\"Muevo los brazos hacia la izquierda\")\n",
        "    print(\"Muevo las piernas hacia la derecha\")"
      ],
      "metadata": {
        "id": "Jm9eXDN8rs58"
      },
      "execution_count": 72,
      "outputs": []
    },
    {
      "cell_type": "code",
      "source": [
        "Paso6(2,\"Muevo los brazos hacia la derecha\")"
      ],
      "metadata": {
        "colab": {
          "base_uri": "https://localhost:8080/"
        },
        "id": "StWDZeSBrweU",
        "outputId": "3555df43-f985-43b0-e3a9-7550b2ab9101"
      },
      "execution_count": 76,
      "outputs": [
        {
          "output_type": "stream",
          "name": "stdout",
          "text": [
            "Muevo los brazos hacia la derecha\n",
            "Muevo las piernas hacia la izquierda\n",
            "Muevo los brazos hacia la izquierda\n",
            "Muevo las piernas hacia la derecha\n",
            "Muevo los brazos hacia la derecha\n",
            "Muevo las piernas hacia la izquierda\n",
            "Muevo los brazos hacia la izquierda\n",
            "Muevo las piernas hacia la derecha\n"
          ]
        }
      ]
    },
    {
      "cell_type": "code",
      "source": [
        "def Paso7(a,b):\n",
        "  for i in range(a):\n",
        "    print(\"Muevo los brazos hacia la derecha\")\n",
        "    print(\"Al mismo tiempo alzo la pierna izquierda hacia la derecha\")\n",
        "    print(\"brazos estirados hacia el frente\")\n",
        "    print(\"Muevo los brazos hacia la izquierda\")\n",
        "    print(\"Al mismo tiempo alzo la pierna derecha hacia la izquierda\")"
      ],
      "metadata": {
        "id": "rSBeP7_vr6wc"
      },
      "execution_count": 78,
      "outputs": []
    },
    {
      "cell_type": "code",
      "source": [
        "Paso7(1,\"Muevo los brazos hacia la derecha\")"
      ],
      "metadata": {
        "colab": {
          "base_uri": "https://localhost:8080/"
        },
        "id": "mVu1XMuztdBy",
        "outputId": "1c146b4f-c6e5-495b-9982-cb147a6c8396"
      },
      "execution_count": 79,
      "outputs": [
        {
          "output_type": "stream",
          "name": "stdout",
          "text": [
            "Muevo los brazos hacia la derecha\n",
            "Al mismo tiempo alzo la pierna izquierda hacia la derecha\n",
            "brazos estirados hacia el frente\n",
            "Muevo los brazos hacia la izquierda\n",
            "Al mismo tiempo alzo la pierna derecha hacia la izquierda\n"
          ]
        }
      ]
    },
    {
      "cell_type": "code",
      "source": [
        "def Paso8(a,b):\n",
        "  for i in range(a):\n",
        "    print(\"Manos cruzadas sobre el pecho\")\n",
        "    print(\"Manos en los hombros\")\n",
        "    print(\"Mano izquierda en el menton y la mano derecha en la mejilla derecha\")\n",
        "    print(\"Mano derecha en el menton y la mano izquierda en la mejilla izquierda\")\n",
        "    print(\"Brazo izquierdo arriba y brazo derecha en la cintura\")"
      ],
      "metadata": {
        "id": "vnHVwzRhtn2r"
      },
      "execution_count": 80,
      "outputs": []
    },
    {
      "cell_type": "code",
      "source": [
        "Paso8(1,\"Manos cruzadas sobre el pecho\")"
      ],
      "metadata": {
        "colab": {
          "base_uri": "https://localhost:8080/"
        },
        "id": "bBXcrvAatsdS",
        "outputId": "ec95487c-292d-4175-bc94-468110c6cdfb"
      },
      "execution_count": 81,
      "outputs": [
        {
          "output_type": "stream",
          "name": "stdout",
          "text": [
            "Manos cruzadas sobre el pecho\n",
            "Manos en los hombros\n",
            "Mano izquierda en el menton y la mano derecha en la mejilla derecha\n",
            "Mano derecha en el menton y la mano izquierda en la mejilla izquierda\n",
            "Brazo izquierdo arriba y brazo derecha en la cintura\n"
          ]
        }
      ]
    }
  ]
}