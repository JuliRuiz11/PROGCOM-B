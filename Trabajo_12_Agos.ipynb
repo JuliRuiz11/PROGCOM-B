{
  "nbformat": 4,
  "nbformat_minor": 0,
  "metadata": {
    "colab": {
      "provenance": []
    },
    "kernelspec": {
      "name": "python3",
      "display_name": "Python 3"
    },
    "language_info": {
      "name": "python"
    }
  },
  "cells": [
    {
      "cell_type": "markdown",
      "source": [],
      "metadata": {
        "id": "m-J35dc1Lzxp"
      }
    },
    {
      "cell_type": "markdown",
      "source": [
        "#Estructura de selección\n",
        "\n",
        "Se emplean cuando quiero evaluar una condición, el resultado de la evaluación de esta condición siempre se da en boleano (v o f)\n",
        "\n"
      ],
      "metadata": {
        "id": "y2bcfFfbL1MZ"
      }
    },
    {
      "cell_type": "markdown",
      "source": [
        "#Estructura if-else\n",
        "\n",
        "if (condición):\n",
        "  entro aqui, si la condición dio V\n",
        "else:\n",
        "  entro aqui, si la condición= F"
      ],
      "metadata": {
        "id": "Tvrj1JmEMiFZ"
      }
    },
    {
      "cell_type": "code",
      "source": [
        "#1 es divisible entre 4\n",
        "#2 es divisible entre 400 pero no entre 100\n",
        "año=int(input(\"Introduzca un año: \"))\n",
        "if (año%4==0 and año%100!=0):\n",
        "  print(f\"{año} es un año bisiesto\")\n",
        "else:\n",
        "  if año%400==0:\n",
        "    print(f\"{año} es un año bisiesto\")\n",
        "  else:\n",
        "    print(f\"{año} NO es un año bisiesto\")"
      ],
      "metadata": {
        "colab": {
          "base_uri": "https://localhost:8080/"
        },
        "id": "zcsdlD2sM_mo",
        "outputId": "07e08779-7ae5-47e2-ec3a-fbe528f7630d"
      },
      "execution_count": 12,
      "outputs": [
        {
          "output_type": "stream",
          "name": "stdout",
          "text": [
            "Introduzca un año: 2030\n",
            "2030 NO es un año bisiesto\n"
          ]
        }
      ]
    },
    {
      "cell_type": "markdown",
      "source": [
        "##Estructura de decisión múltiple if-elif-else\n",
        "Se emplea cuando hay más de una decisión\n",
        "\n",
        "...\n",
        "if (cend1):\n",
        " si cond1 es verdadero, entro aquí\n",
        "elif (cond2):\n",
        " si cond1 es falso, PERO cond2 es verdadero, entro aquí\n",
        "elif!\n",
        "\n",
        "```\n",
        "\n"
      ],
      "metadata": {
        "id": "3nU05RdNPEmf"
      }
    },
    {
      "cell_type": "markdown",
      "source": [
        "#Estrutura de decicion multiple if-elif-else\n",
        "se emplea cuando hay mas de una decicion\n",
        "\n",
        "if (cond1):\n",
        "  si cold1 es verdadero, entroaqui\n",
        "elif (cond2):\n",
        "  si cold1 es falso, Pero cond2 es verdadero, entero aqui\n",
        "elif (cond3):\n",
        "  si cold1 y conl2 son falsos, PERO cond3 es verdadero, dentro aqui\n",
        "else: si cond1 y cond2 y cond3 y cond n son falsa, entrara aqui"
      ],
      "metadata": {
        "id": "vlL_MQypR_q0"
      }
    },
    {
      "cell_type": "code",
      "source": [
        "if (año%4==0 and año%100!=0): print(f\"{año} es un año bisiesto\")\n",
        "elif año%400==0: print(f\"{año} es un año bisiesto\")\n",
        "else:\n",
        "  print(f\"{año} NO es un año bisiesto\")"
      ],
      "metadata": {
        "colab": {
          "base_uri": "https://localhost:8080/"
        },
        "id": "j0VO1geFQv8e",
        "outputId": "eaf14a9d-3430-4681-9d58-3fb590d3b882"
      },
      "execution_count": 13,
      "outputs": [
        {
          "output_type": "stream",
          "name": "stdout",
          "text": [
            "2030 NO es un año bisiesto\n"
          ]
        }
      ]
    },
    {
      "cell_type": "markdown",
      "source": [
        "#Estructura terniario\n",
        "Programar una estructura de selección en una sola línea de código\n",
        "\n",
        "\n",
        "```\n",
        "(Lo que se debe ejecutar, si la condición es\n",
        "verdadera) if (condición) else (lo que se\n",
        "debe ejecutar, si la condición es falsa)\n",
        "```\n",
        "\n"
      ],
      "metadata": {
        "id": "rafdFrQJU8my"
      }
    },
    {
      "cell_type": "code",
      "source": [
        "a=f\"{año} es un año bisiesto\" if (año%4==0 and año%100!=0) else b\n",
        "b=f\"{año} es un año bisiesto\" if año%400==0 else f\"{año} NO es un año bisiesto\"\n",
        "print(a)"
      ],
      "metadata": {
        "colab": {
          "base_uri": "https://localhost:8080/",
          "height": 176
        },
        "id": "yq-4fkLqV7zp",
        "outputId": "701fac60-b22f-442d-981c-e57081b214d8"
      },
      "execution_count": 56,
      "outputs": [
        {
          "output_type": "error",
          "ename": "NameError",
          "evalue": "name 'b' is not defined",
          "traceback": [
            "\u001b[0;31m---------------------------------------------------------------------------\u001b[0m",
            "\u001b[0;31mNameError\u001b[0m                                 Traceback (most recent call last)",
            "\u001b[0;32m/tmp/ipython-input-3286700263.py\u001b[0m in \u001b[0;36m<cell line: 0>\u001b[0;34m()\u001b[0m\n\u001b[0;32m----> 1\u001b[0;31m \u001b[0ma\u001b[0m\u001b[0;34m=\u001b[0m\u001b[0;34m(\u001b[0m\u001b[0;34mf\"{año} es un año bisiesto\"\u001b[0m\u001b[0;34m)\u001b[0m \u001b[0;32mif\u001b[0m \u001b[0;34m(\u001b[0m\u001b[0maño\u001b[0m\u001b[0;34m%\u001b[0m\u001b[0;36m4\u001b[0m\u001b[0;34m==\u001b[0m\u001b[0;36m0\u001b[0m \u001b[0;32mand\u001b[0m \u001b[0maño\u001b[0m\u001b[0;34m%\u001b[0m\u001b[0;36m100\u001b[0m\u001b[0;34m!=\u001b[0m\u001b[0;36m0\u001b[0m\u001b[0;34m)\u001b[0m \u001b[0;32melse\u001b[0m \u001b[0mb\u001b[0m\u001b[0;34m\u001b[0m\u001b[0;34m\u001b[0m\u001b[0m\n\u001b[0m\u001b[1;32m      2\u001b[0m \u001b[0mb\u001b[0m\u001b[0;34m=\u001b[0m\u001b[0;34m(\u001b[0m\u001b[0;34mf\"{año} es un año bisiesto\"\u001b[0m\u001b[0;34m)\u001b[0m \u001b[0;32mif\u001b[0m \u001b[0maño\u001b[0m\u001b[0;34m%\u001b[0m\u001b[0;36m400\u001b[0m\u001b[0;34m==\u001b[0m\u001b[0;36m0\u001b[0m \u001b[0;32melse\u001b[0m \u001b[0;34mf\"{año} NO es un año bisiesto\"\u001b[0m\u001b[0;34m\u001b[0m\u001b[0;34m\u001b[0m\u001b[0m\n\u001b[1;32m      3\u001b[0m \u001b[0mprint\u001b[0m\u001b[0;34m(\u001b[0m\u001b[0ma\u001b[0m\u001b[0;34m)\u001b[0m\u001b[0;34m\u001b[0m\u001b[0;34m\u001b[0m\u001b[0m\n",
            "\u001b[0;31mNameError\u001b[0m: name 'b' is not defined"
          ]
        }
      ]
    },
    {
      "cell_type": "markdown",
      "source": [
        "#Ejercicio con if-else\n",
        "\n",
        "1. Positivo\n"
      ],
      "metadata": {
        "id": "uHVGlcpoV8MQ"
      }
    },
    {
      "cell_type": "code",
      "source": [
        "#1 es mayor que cero\n",
        "#2 el número es cero\n",
        "NUM=int(input(\"Introduce un número: \"))\n",
        "if (NUM > 0):\n",
        "  print(f\"{NUM} es un número positivo\")\n",
        "else:\n",
        "\n",
        "  if NUM==0:\n",
        "    print(f\"{NUM} es un número positivo\")\n",
        "  else :\n",
        "   print(f\"{NUM} NO es un número positivo\")"
      ],
      "metadata": {
        "colab": {
          "base_uri": "https://localhost:8080/"
        },
        "id": "St7KLV90Xk_f",
        "outputId": "aaa0b2bd-563c-4476-ae37-7fb7bb62c9ee"
      },
      "execution_count": 46,
      "outputs": [
        {
          "output_type": "stream",
          "name": "stdout",
          "text": [
            "Introduce un número: -8\n",
            "-8 NO es un número positivo\n"
          ]
        }
      ]
    },
    {
      "cell_type": "markdown",
      "source": [
        "2. Edad"
      ],
      "metadata": {
        "id": "f2p4naKwd-gK"
      }
    },
    {
      "cell_type": "code",
      "source": [
        "#1 es mayor a 18\n",
        "#2 es menor a 18\n",
        "EDAD=int(input(\"Introduce una edad \"))\n",
        "if (EDAD > 18):\n",
        "  print(f\"{EDAD} es mayor de edad\")\n",
        "else:\n",
        "\n",
        "  if EDAD < 18:\n",
        "    print(f\"{EDAD} es menor de edad\")"
      ],
      "metadata": {
        "colab": {
          "base_uri": "https://localhost:8080/"
        },
        "id": "3ZQlfcvVd0Eq",
        "outputId": "2c3aa364-f29b-40ae-a1f1-07d9e70313ef"
      },
      "execution_count": 60,
      "outputs": [
        {
          "output_type": "stream",
          "name": "stdout",
          "text": [
            "Introduce una edad 17\n",
            "17 es menor de edad\n"
          ]
        }
      ]
    }
  ]
}